{
 "cells": [
  {
   "cell_type": "markdown",
   "metadata": {},
   "source": [
    "# Исследовательский проект. JPS и BB"
   ]
  },
  {
   "cell_type": "code",
   "execution_count": 20,
   "metadata": {
    "tags": []
   },
   "outputs": [],
   "source": [
    "# # Импортируем классы для хранения карты и вершин. В классе карты реализованы методы сокращения succesor-ов, по методу JPS\n",
    "from map import Map\n",
    "from node import Node\n",
    "\n",
    "# Импортируем OPEN и CLOSED для всех алгоритмов поиска\n",
    "from open_closed import Open, Closed\n",
    "\n",
    "# Функция добавляющая предподсчитанные BB всем вершинам карты\n",
    "from BB_preprocessing import PrecomputeBoundingBoxes\n",
    "\n",
    "# Алгоритм эвристического поиска А*, для сравнения с другими алгоритмами\n",
    "from AStar import AStar\n",
    "\n",
    "# Алгоритм эвристического поиска А* совмещенный с BB\n",
    "from AStarBB import AStarBB\n",
    "\n",
    "# Алгоритм эвристического поиска JPS, его модифицированная версия BJP\n",
    "from JPS import BJPS, JPS\n",
    "\n",
    "# Все что нужно для запуска экспериментов\n",
    "from tests import *"
   ]
  },
  {
   "source": [
    "## Simple test"
   ],
   "cell_type": "markdown",
   "metadata": {}
  },
  {
   "cell_type": "code",
   "execution_count": 21,
   "metadata": {},
   "outputs": [],
   "source": [
    "height = 15\n",
    "width = 30\n",
    "mapstr = '''\n",
    ". . . . . . . . . . . . . . . . . . . . . # # . . . . . . .  \n",
    ". . . . . . . . . . . . . . . . . . . . . # # . . . . . . . \n",
    ". . . . . . . . . . . . . . . . . . . . . # # . . . . . . . \n",
    ". . . # # . . . . . . . . . . . . . . . . # # . . . . . . . \n",
    ". . . # # . . . . . . . . # # . . . . . . # # . . . . . . . \n",
    ". . . # # . . . . . . . . # # . . . . . . # # # # # . . . . \n",
    ". . . # # . . . . . . . . # # . . . . . . # # # # # . . . . \n",
    ". . . # # . . . . . . . . # # . . . . . . . . . . . . . . . \n",
    ". . . # # . . . . . . . . # # . . . . . . . . . . . . . . . \n",
    ". . . # # . . . . . . . . # # . . . . . . . . . . . . . . . \n",
    ". . . # # . . . . . . . . # # . . . . . . . . . . . . . . . \n",
    ". . . # # . . . . . . . . # # . . . . . . . . . . . . . . . \n",
    ". . . . . . . . . . . . . # # . . . . . . . . . . . . . . . \n",
    ". . . . . . . . . . . . . # # . . . . . . . . . . . . . . .\n",
    ". . . . . . . . . . . . . # # . . . . . . . . . . . . . . .\n",
    "'''\n",
    "iStart = 1\n",
    "jStart = 1\n",
    "iGoal = 13\n",
    "jGoal = 28\n",
    "pathLen = 31.9705627\n"
   ]
  },
  {
   "cell_type": "code",
   "execution_count": 23,
   "metadata": {},
   "outputs": [
    {
     "output_type": "stream",
     "name": "stdout",
     "text": [
      "Path found! Length: 31.970562748477146. Nodes created: 223. Number of steps: 157. Correct: True\nCPU times: user 3.79 s, sys: 16.2 ms, total: 3.8 s\nWall time: 3.8 s\n"
     ]
    }
   ],
   "source": [
    "%time SimpleTestAstarBB(AStarBB, height, width, mapstr, iStart, jStart, iGoal, jGoal, pathLen)"
   ]
  },
  {
   "cell_type": "code",
   "execution_count": 24,
   "metadata": {},
   "outputs": [
    {
     "output_type": "stream",
     "name": "stdout",
     "text": [
      "Path found! Length: 31.970562748477146. Nodes created: 223. Number of steps: 157. Correct: True\nCPU times: user 4.84 ms, sys: 64 µs, total: 4.9 ms\nWall time: 4.91 ms\n"
     ]
    }
   ],
   "source": [
    "taskMap = Map()\n",
    "taskMap.ReadFromString(mapstr, width, height)\n",
    "PrecomputeBoundingBoxes(taskMap)\n",
    "\n",
    "%time SimpleTestAstarBBNoPrep(AStarBB, height, width, taskMap, iStart, jStart, iGoal, jGoal, pathLen)"
   ]
  },
  {
   "cell_type": "code",
   "execution_count": 26,
   "metadata": {},
   "outputs": [
    {
     "output_type": "stream",
     "name": "stdout",
     "text": [
      "Path found! Length: 31.970562748477146. Nodes created: 223. Number of steps: 157. Correct: True\nCPU times: user 8.17 ms, sys: 207 µs, total: 8.38 ms\nWall time: 8.24 ms\n"
     ]
    }
   ],
   "source": [
    "%time SimpleTest(AStar, height, width, mapstr, iStart, jStart, iGoal, jGoal, pathLen)"
   ]
  },
  {
   "cell_type": "markdown",
   "metadata": {},
   "source": [
    "## Massive test\n",
    "\n"
   ]
  },
  {
   "cell_type": "code",
   "execution_count": 85,
   "metadata": {},
   "outputs": [
    {
     "output_type": "stream",
     "name": "stdout",
     "text": [
      "Map arena BB Preprocessing\n",
      "--- 126.93564200401306 seconds ---\n",
      "Map arena BB Preprocessing Finished\n",
      "Path found! Length: 4.82842712474619. Nodes created: 23. Number of steps: 6. Correct: True\n",
      "Path found! Length: 6.242640687119285. Nodes created: 29. Number of steps: 8. Correct: True\n",
      "Path found! Length: 43.11269837220808. Nodes created: 426. Number of steps: 305. Correct: True\n",
      "Path found! Length: 34.07106781186547. Nodes created: 270. Number of steps: 179. Correct: True\n",
      "Path found! Length: 29.45584412271572. Nodes created: 183. Number of steps: 105. Correct: True\n",
      "Path found! Length: 45.627416997969505. Nodes created: 532. Number of steps: 425. Correct: True\n",
      "Path found! Length: 43.04163056034261. Nodes created: 460. Number of steps: 356. Correct: True\n",
      "Path found! Length: 46.25483399593903. Nodes created: 169. Number of steps: 34. Correct: True\n",
      "Path found! Length: 3.82842712474619. Nodes created: 17. Number of steps: 4. Correct: True\n",
      "Path found! Length: 4.242640687119286. Nodes created: 19. Number of steps: 4. Correct: True\n",
      "Path found! Length: 51.28427124746187. Nodes created: 648. Number of steps: 520. Correct: True\n",
      "Path found! Length: 21.899494936611667. Nodes created: 160. Number of steps: 103. Correct: True\n",
      "Path found! Length: 18.55634918610405. Nodes created: 104. Number of steps: 52. Correct: True\n",
      "Path found! Length: 9.242640687119284. Nodes created: 43. Number of steps: 18. Correct: True\n",
      "Path found! Length: 33.48528137423857. Nodes created: 240. Number of steps: 170. Correct: True\n",
      "Path found! Length: 48.083261120685215. Nodes created: 168. Number of steps: 35. Correct: True\n",
      "Path found! Length: 35.14213562373095. Nodes created: 323. Number of steps: 230. Correct: True\n",
      "Path found! Length: 50.08326112068521. Nodes created: 188. Number of steps: 51. Correct: True\n",
      "Path found! Length: 29.69848480983501. Nodes created: 109. Number of steps: 22. Correct: True\n",
      "Path found! Length: 18.414213562373096. Nodes created: 62. Number of steps: 19. Correct: True\n",
      "Path found! Length: 45.52691193458117. Nodes created: 483. Number of steps: 356. Correct: True\n",
      "Path found! Length: 10.414213562373096. Nodes created: 38. Number of steps: 11. Correct: True\n",
      "Path found! Length: 15.727922061357859. Nodes created: 90. Number of steps: 43. Correct: True\n",
      "Path found! Length: 11.82842712474619. Nodes created: 54. Number of steps: 23. Correct: True\n",
      "Path found! Length: 49.25483399593902. Nodes created: 324. Number of steps: 186. Correct: True\n",
      "Path found! Length: 4.414213562373095. Nodes created: 20. Number of steps: 5. Correct: True\n",
      "Path found! Length: 7.65685424949238. Nodes created: 35. Number of steps: 10. Correct: True\n",
      "Path found! Length: 24.798989873223338. Nodes created: 139. Number of steps: 78. Correct: True\n",
      "Path found! Length: 47.01219330881974. Nodes created: 308. Number of steps: 120. Correct: True\n",
      "Path found! Length: 15.242640687119284. Nodes created: 89. Number of steps: 48. Correct: True\n",
      "Path found! Length: 41.14213562373094. Nodes created: 414. Number of steps: 315. Correct: True\n",
      "Path found! Length: 34.94112549695429. Nodes created: 145. Number of steps: 42. Correct: True\n",
      "Path found! Length: 10.071067811865476. Nodes created: 50. Number of steps: 19. Correct: True\n",
      "Path found! Length: 37.04163056034262. Nodes created: 349. Number of steps: 248. Correct: True\n",
      "Path found! Length: 50.08326112068521. Nodes created: 239. Number of steps: 100. Correct: True\n",
      "Path found! Length: 40.38477631085023. Nodes created: 404. Number of steps: 298. Correct: True\n",
      "Path found! Length: 41.52691193458118. Nodes created: 374. Number of steps: 263. Correct: True\n",
      "Path found! Length: 38.04163056034261. Nodes created: 368. Number of steps: 276. Correct: True\n",
      "Path found! Length: 5.656854249492381. Nodes created: 24. Number of steps: 5. Correct: True\n",
      "Path found! Length: 26.65685424949238. Nodes created: 173. Number of steps: 106. Correct: True\n",
      "Path found! Length: 51.84062043356592. Nodes created: 432. Number of steps: 262. Correct: True\n",
      "Path found! Length: 30.45584412271572. Nodes created: 218. Number of steps: 133. Correct: True\n",
      "Path found! Length: 24. Nodes created: 78. Number of steps: 25. Correct: True\n",
      "Path found! Length: 12.313708498984763. Nodes created: 56. Number of steps: 17. Correct: True\n",
      "Path found! Length: 46.870057685088796. Nodes created: 537. Number of steps: 426. Correct: True\n",
      "Path found! Length: 18.65685424949238. Nodes created: 97. Number of steps: 55. Correct: True\n",
      "Path found! Length: 5.82842712474619. Nodes created: 27. Number of steps: 8. Correct: True\n",
      "Path found! Length: 2. Nodes created: 12. Number of steps: 3. Correct: True\n",
      "Path found! Length: 33.071067811865476. Nodes created: 223. Number of steps: 150. Correct: True\n",
      "Path found! Length: 23.48528137423857. Nodes created: 166. Number of steps: 107. Correct: True\n",
      "Path found! Length: 51.254833995939016. Nodes created: 428. Number of steps: 240. Correct: True\n",
      "Path found! Length: 29.970562748477146. Nodes created: 302. Number of steps: 221. Correct: True\n",
      "Path found! Length: 8.071067811865476. Nodes created: 34. Number of steps: 7. Correct: True\n",
      "Path found! Length: 9.242640687119284. Nodes created: 45. Number of steps: 18. Correct: True\n",
      "Path found! Length: 15.727922061357859. Nodes created: 81. Number of steps: 41. Correct: True\n",
      "Path found! Length: 12.485281374238571. Nodes created: 68. Number of steps: 32. Correct: True\n",
      "Path found! Length: 20.55634918610405. Nodes created: 116. Number of steps: 61. Correct: True\n",
      "Path found! Length: 23.071067811865476. Nodes created: 165. Number of steps: 95. Correct: True\n",
      "Path found! Length: 40.35533905932737. Nodes created: 282. Number of steps: 172. Correct: True\n",
      "Path found! Length: 2.414213562373095. Nodes created: 14. Number of steps: 3. Correct: True\n",
      "Path found! Length: 17.313708498984763. Nodes created: 112. Number of steps: 64. Correct: True\n",
      "Path found! Length: 2. Nodes created: 8. Number of steps: 3. Correct: True\n",
      "Path found! Length: 3.82842712474619. Nodes created: 13. Number of steps: 4. Correct: True\n",
      "Path found! Length: 30.313708498984763. Nodes created: 223. Number of steps: 151. Correct: True\n",
      "Path found! Length: 20.071067811865476. Nodes created: 118. Number of steps: 78. Correct: True\n",
      "Path found! Length: 50.870057685088774. Nodes created: 625. Number of steps: 504. Correct: True\n",
      "Path found! Length: 26.384776310850242. Nodes created: 233. Number of steps: 154. Correct: True\n",
      "Path found! Length: 4.414213562373095. Nodes created: 20. Number of steps: 5. Correct: True\n",
      "Path found! Length: 43.94112549695427. Nodes created: 393. Number of steps: 272. Correct: True\n",
      "Path found! Length: 19.970562748477146. Nodes created: 115. Number of steps: 57. Correct: True\n",
      "Path found! Length: 3. Nodes created: 15. Number of steps: 4. Correct: True\n",
      "Path found! Length: 27.82842712474619. Nodes created: 123. Number of steps: 65. Correct: True\n",
      "Path found! Length: 24.213203435596434. Nodes created: 144. Number of steps: 73. Correct: True\n",
      "Path found! Length: 41.38477631085022. Nodes created: 441. Number of steps: 349. Correct: True\n",
      "Path found! Length: 9.899494936611667. Nodes created: 38. Number of steps: 8. Correct: True\n"
     ]
    }
   ],
   "source": [
    "maps = ['arena']\n",
    "WAStarBBStat = MassiveTestBB(WAStarBB, maps, weight=1)"
   ]
  },
  {
   "source": [
    "Мы видим что на карте arena размером 50х50, предподсчет Bounding Boxes занял 2 минуты. При этом асимптотика этого алгоритма О(n^2 * logn * logn), где n - число вершин (т.е. 50*50=2500 в данном случае)\n",
    "\n",
    "**На карте размером 200х200 предподсчет Bounding Boxes займет около 10ч** \n",
    "\n",
    "Действительно, это будет в 4^4 раз больше времени, то есть около 2мин * 256 ~= 10ч. Это не очень радужная новость для наших экспериментов"
   ],
   "cell_type": "markdown",
   "metadata": {}
  },
  {
   "cell_type": "code",
   "execution_count": 84,
   "metadata": {},
   "outputs": [
    {
     "output_type": "stream",
     "name": "stdout",
     "text": [
      "Path found! Length: 4.82842712474619. Nodes created: 23. Number of steps: 6. Correct: True\n",
      "Path found! Length: 6.242640687119285. Nodes created: 29. Number of steps: 8. Correct: True\n",
      "Path found! Length: 43.11269837220808. Nodes created: 426. Number of steps: 305. Correct: True\n",
      "Path found! Length: 34.07106781186547. Nodes created: 270. Number of steps: 179. Correct: True\n",
      "Path found! Length: 29.45584412271572. Nodes created: 183. Number of steps: 105. Correct: True\n",
      "Path found! Length: 45.627416997969505. Nodes created: 532. Number of steps: 425. Correct: True\n",
      "Path found! Length: 43.04163056034261. Nodes created: 460. Number of steps: 356. Correct: True\n",
      "Path found! Length: 46.25483399593903. Nodes created: 169. Number of steps: 34. Correct: True\n",
      "Path found! Length: 3.82842712474619. Nodes created: 17. Number of steps: 4. Correct: True\n",
      "Path found! Length: 4.242640687119286. Nodes created: 19. Number of steps: 4. Correct: True\n",
      "Path found! Length: 51.28427124746187. Nodes created: 648. Number of steps: 520. Correct: True\n",
      "Path found! Length: 21.899494936611667. Nodes created: 160. Number of steps: 103. Correct: True\n",
      "Path found! Length: 18.55634918610405. Nodes created: 104. Number of steps: 52. Correct: True\n",
      "Path found! Length: 9.242640687119284. Nodes created: 43. Number of steps: 18. Correct: True\n",
      "Path found! Length: 33.48528137423857. Nodes created: 240. Number of steps: 170. Correct: True\n",
      "Path found! Length: 48.083261120685215. Nodes created: 168. Number of steps: 35. Correct: True\n",
      "Path found! Length: 35.14213562373095. Nodes created: 323. Number of steps: 230. Correct: True\n",
      "Path found! Length: 50.08326112068521. Nodes created: 188. Number of steps: 51. Correct: True\n",
      "Path found! Length: 29.69848480983501. Nodes created: 109. Number of steps: 22. Correct: True\n",
      "Path found! Length: 18.414213562373096. Nodes created: 62. Number of steps: 19. Correct: True\n",
      "Path found! Length: 45.52691193458117. Nodes created: 483. Number of steps: 356. Correct: True\n",
      "Path found! Length: 10.414213562373096. Nodes created: 38. Number of steps: 11. Correct: True\n",
      "Path found! Length: 15.727922061357859. Nodes created: 90. Number of steps: 43. Correct: True\n",
      "Path found! Length: 11.82842712474619. Nodes created: 54. Number of steps: 23. Correct: True\n",
      "Path found! Length: 49.25483399593902. Nodes created: 324. Number of steps: 186. Correct: True\n",
      "Path found! Length: 4.414213562373095. Nodes created: 20. Number of steps: 5. Correct: True\n",
      "Path found! Length: 7.65685424949238. Nodes created: 35. Number of steps: 10. Correct: True\n",
      "Path found! Length: 24.798989873223338. Nodes created: 139. Number of steps: 78. Correct: True\n",
      "Path found! Length: 47.01219330881974. Nodes created: 308. Number of steps: 120. Correct: True\n",
      "Path found! Length: 15.242640687119284. Nodes created: 89. Number of steps: 48. Correct: True\n",
      "Path found! Length: 41.14213562373094. Nodes created: 414. Number of steps: 315. Correct: True\n",
      "Path found! Length: 34.94112549695429. Nodes created: 145. Number of steps: 42. Correct: True\n",
      "Path found! Length: 10.071067811865476. Nodes created: 50. Number of steps: 19. Correct: True\n",
      "Path found! Length: 37.04163056034262. Nodes created: 349. Number of steps: 248. Correct: True\n",
      "Path found! Length: 50.08326112068521. Nodes created: 239. Number of steps: 100. Correct: True\n",
      "Path found! Length: 40.38477631085023. Nodes created: 404. Number of steps: 298. Correct: True\n",
      "Path found! Length: 41.52691193458118. Nodes created: 374. Number of steps: 263. Correct: True\n",
      "Path found! Length: 38.04163056034261. Nodes created: 368. Number of steps: 276. Correct: True\n",
      "Path found! Length: 5.656854249492381. Nodes created: 24. Number of steps: 5. Correct: True\n",
      "Path found! Length: 26.65685424949238. Nodes created: 173. Number of steps: 106. Correct: True\n",
      "Path found! Length: 51.84062043356592. Nodes created: 432. Number of steps: 262. Correct: True\n",
      "Path found! Length: 30.45584412271572. Nodes created: 218. Number of steps: 133. Correct: True\n",
      "Path found! Length: 24. Nodes created: 78. Number of steps: 25. Correct: True\n",
      "Path found! Length: 12.313708498984763. Nodes created: 56. Number of steps: 17. Correct: True\n",
      "Path found! Length: 46.870057685088796. Nodes created: 537. Number of steps: 426. Correct: True\n",
      "Path found! Length: 18.65685424949238. Nodes created: 97. Number of steps: 55. Correct: True\n",
      "Path found! Length: 5.82842712474619. Nodes created: 27. Number of steps: 8. Correct: True\n",
      "Path found! Length: 2. Nodes created: 12. Number of steps: 3. Correct: True\n",
      "Path found! Length: 33.071067811865476. Nodes created: 223. Number of steps: 150. Correct: True\n",
      "Path found! Length: 23.48528137423857. Nodes created: 166. Number of steps: 107. Correct: True\n",
      "Path found! Length: 51.254833995939016. Nodes created: 428. Number of steps: 240. Correct: True\n",
      "Path found! Length: 29.970562748477146. Nodes created: 302. Number of steps: 221. Correct: True\n",
      "Path found! Length: 8.071067811865476. Nodes created: 34. Number of steps: 7. Correct: True\n",
      "Path found! Length: 9.242640687119284. Nodes created: 45. Number of steps: 18. Correct: True\n",
      "Path found! Length: 15.727922061357859. Nodes created: 81. Number of steps: 41. Correct: True\n",
      "Path found! Length: 12.485281374238571. Nodes created: 68. Number of steps: 32. Correct: True\n",
      "Path found! Length: 20.55634918610405. Nodes created: 116. Number of steps: 61. Correct: True\n",
      "Path found! Length: 23.071067811865476. Nodes created: 165. Number of steps: 95. Correct: True\n",
      "Path found! Length: 40.35533905932737. Nodes created: 282. Number of steps: 172. Correct: True\n",
      "Path found! Length: 2.414213562373095. Nodes created: 14. Number of steps: 3. Correct: True\n",
      "Path found! Length: 17.313708498984763. Nodes created: 112. Number of steps: 64. Correct: True\n",
      "Path found! Length: 2. Nodes created: 8. Number of steps: 3. Correct: True\n",
      "Path found! Length: 3.82842712474619. Nodes created: 13. Number of steps: 4. Correct: True\n",
      "Path found! Length: 30.313708498984763. Nodes created: 223. Number of steps: 151. Correct: True\n",
      "Path found! Length: 20.071067811865476. Nodes created: 118. Number of steps: 78. Correct: True\n",
      "Path found! Length: 50.870057685088774. Nodes created: 625. Number of steps: 504. Correct: True\n",
      "Path found! Length: 26.384776310850242. Nodes created: 233. Number of steps: 154. Correct: True\n",
      "Path found! Length: 4.414213562373095. Nodes created: 20. Number of steps: 5. Correct: True\n",
      "Path found! Length: 43.94112549695427. Nodes created: 393. Number of steps: 272. Correct: True\n",
      "Path found! Length: 19.970562748477146. Nodes created: 115. Number of steps: 57. Correct: True\n",
      "Path found! Length: 3. Nodes created: 15. Number of steps: 4. Correct: True\n",
      "Path found! Length: 27.82842712474619. Nodes created: 123. Number of steps: 65. Correct: True\n",
      "Path found! Length: 24.213203435596434. Nodes created: 144. Number of steps: 73. Correct: True\n",
      "Path found! Length: 41.38477631085022. Nodes created: 441. Number of steps: 349. Correct: True\n",
      "Path found! Length: 9.899494936611667. Nodes created: 38. Number of steps: 8. Correct: True\n"
     ]
    }
   ],
   "source": [
    "maps = ['arena']\n",
    "AStarStat = MassiveTest(WAStar, maps, weight=1)"
   ]
  },
  {
   "cell_type": "markdown",
   "metadata": {},
   "source": [
    "## Analyze the results"
   ]
  }
 ],
 "metadata": {
  "kernelspec": {
   "name": "python385jvsc74a57bd0ac04af24cf61e25f3c174b1468d18facbc6a5bd015644e51cd1be2934a39a15d",
   "display_name": "Python 3.8.5 64-bit ('base': conda)"
  },
  "language_info": {
   "codemirror_mode": {
    "name": "ipython",
    "version": 3
   },
   "file_extension": ".py",
   "mimetype": "text/x-python",
   "name": "python",
   "nbconvert_exporter": "python",
   "pygments_lexer": "ipython3",
   "version": "3.8.5"
  },
  "metadata": {
   "interpreter": {
    "hash": "ac04af24cf61e25f3c174b1468d18facbc6a5bd015644e51cd1be2934a39a15d"
   }
  }
 },
 "nbformat": 4,
 "nbformat_minor": 2
}